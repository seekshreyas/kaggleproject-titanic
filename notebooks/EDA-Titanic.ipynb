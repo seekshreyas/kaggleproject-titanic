{
 "cells": [
  {
   "cell_type": "markdown",
   "id": "4b9419c8-ab7f-40c5-8ac2-14370472a2c8",
   "metadata": {},
   "source": [
    "Exploratory Data Analysis (EDA) for Kaggle Titanic Challenge\n",
    "===\n",
    "\n",
    "reference: https://www.kaggle.com/code/alexisbcook/titanic-tutorial"
   ]
  },
  {
   "cell_type": "code",
   "execution_count": null,
   "id": "20cfd35d-7ee3-4585-adcb-69b5b95381d3",
   "metadata": {},
   "outputs": [],
   "source": []
  },
  {
   "cell_type": "code",
   "execution_count": 1,
   "id": "dfa2c52f-255e-418c-8084-f75fb82b6d03",
   "metadata": {},
   "outputs": [],
   "source": [
    "import numpy as np\n",
    "import pandas as pd"
   ]
  },
  {
   "cell_type": "code",
   "execution_count": 2,
   "id": "45fbb084-9166-4319-8b97-0d8040a927ec",
   "metadata": {},
   "outputs": [
    {
     "name": "stdout",
     "output_type": "stream",
     "text": [
      "/Users/shreyas/Documents/MyGithub/kaggleproject-titanic\n"
     ]
    }
   ],
   "source": [
    "# Load environment variables\n",
    "# reference: https://drivendata.github.io/cookiecutter-data-science/#keep-secrets-and-configuration-out-of-version-control\n",
    "\n",
    "import os\n",
    "import dotenv\n",
    "\n",
    "dotenv_path = dotenv.find_dotenv()\n",
    "dotenv.load_dotenv(dotenv_path)\n",
    "# load up entries as environment variables\n",
    "\n",
    "ENV_PROJECTDIR = os.environ.get(\"ENV_PROJECTDIR\")\n",
    "print(ENV_PROJECTDIR)"
   ]
  },
  {
   "cell_type": "code",
   "execution_count": null,
   "id": "6e769c26-9e48-4cd0-999a-c5c04dc41a8c",
   "metadata": {},
   "outputs": [],
   "source": []
  }
 ],
 "metadata": {
  "kernelspec": {
   "display_name": "Python 3 (ipykernel)",
   "language": "python",
   "name": "python3"
  },
  "language_info": {
   "codemirror_mode": {
    "name": "ipython",
    "version": 3
   },
   "file_extension": ".py",
   "mimetype": "text/x-python",
   "name": "python",
   "nbconvert_exporter": "python",
   "pygments_lexer": "ipython3",
   "version": "3.12.0"
  }
 },
 "nbformat": 4,
 "nbformat_minor": 5
}
